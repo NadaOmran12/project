{
 "cells": [
  {
   "cell_type": "code",
   "execution_count": 1,
   "id": "informal-prefix",
   "metadata": {
    "_cell_guid": "b1076dfc-b9ad-4769-8c92-a6c4dae69d19",
    "_uuid": "8f2839f25d086af736a60e9eeb907d3b93b6e0e5",
    "execution": {
     "iopub.execute_input": "2021-06-11T04:07:02.748326Z",
     "iopub.status.busy": "2021-06-11T04:07:02.747507Z",
     "iopub.status.idle": "2021-06-11T04:07:02.754613Z",
     "shell.execute_reply": "2021-06-11T04:07:02.753729Z",
     "shell.execute_reply.started": "2021-06-11T03:46:09.288578Z"
    },
    "papermill": {
     "duration": 0.039711,
     "end_time": "2021-06-11T04:07:02.755020",
     "exception": false,
     "start_time": "2021-06-11T04:07:02.715309",
     "status": "completed"
    },
    "tags": []
   },
   "outputs": [
    {
     "name": "stdout",
     "output_type": "stream",
     "text": [
      "/kaggle/input/titanic/train.csv\n",
      "/kaggle/input/titanic/test.csv\n",
      "/kaggle/input/titanic/gender_submission.csv\n"
     ]
    }
   ],
   "source": [
    "# This Python 3 environment comes with many helpful analytics libraries installed\n",
    "# It is defined by the kaggle/python Docker image: https://github.com/kaggle/docker-python\n",
    "# For example, here's several helpful packages to load\n",
    "\n",
    "import numpy as np # linear algebra\n",
    "import pandas as pd # data processing, CSV file I/O (e.g. pd.read_csv)\n",
    "\n",
    "# Input data files are available in the read-only \"../input/\" directory\n",
    "# For example, running this (by clicking run or pressing Shift+Enter) will list all files under the input directory\n",
    "\n",
    "import os\n",
    "for dirname, _, filenames in os.walk('/kaggle/input'):\n",
    "    for filename in filenames:\n",
    "        print(os.path.join(dirname, filename))\n",
    "\n",
    "# You can write up to 20GB to the current directory (/kaggle/working/) that gets preserved as output when you create a version using \"Save & Run All\" \n",
    "# You can also write temporary files to /kaggle/temp/, but they won't be saved outside of the current session"
   ]
  },
  {
   "cell_type": "code",
   "execution_count": 2,
   "id": "rough-solomon",
   "metadata": {
    "execution": {
     "iopub.execute_input": "2021-06-11T04:07:02.800142Z",
     "iopub.status.busy": "2021-06-11T04:07:02.799488Z",
     "iopub.status.idle": "2021-06-11T04:07:04.224791Z",
     "shell.execute_reply": "2021-06-11T04:07:04.225300Z",
     "shell.execute_reply.started": "2021-06-11T04:02:19.713372Z"
    },
    "papermill": {
     "duration": 1.450119,
     "end_time": "2021-06-11T04:07:04.225493",
     "exception": false,
     "start_time": "2021-06-11T04:07:02.775374",
     "status": "completed"
    },
    "tags": []
   },
   "outputs": [],
   "source": [
    "import seaborn\n",
    "from numpy import std\n",
    "from numpy import mean\n",
    "import matplotlib.pyplot as plt \n",
    "from sklearn.model_selection import RepeatedKFold\n",
    "from sklearn.ensemble import RandomForestClassifier \n",
    "from sklearn.model_selection import cross_val_score"
   ]
  },
  {
   "cell_type": "markdown",
   "id": "solar-bones",
   "metadata": {
    "papermill": {
     "duration": 0.018681,
     "end_time": "2021-06-11T04:07:04.263881",
     "exception": false,
     "start_time": "2021-06-11T04:07:04.245200",
     "status": "completed"
    },
    "tags": []
   },
   "source": [
    "1) import the data"
   ]
  },
  {
   "cell_type": "code",
   "execution_count": 3,
   "id": "crucial-reverse",
   "metadata": {
    "execution": {
     "iopub.execute_input": "2021-06-11T04:07:04.305781Z",
     "iopub.status.busy": "2021-06-11T04:07:04.305146Z",
     "iopub.status.idle": "2021-06-11T04:07:04.332827Z",
     "shell.execute_reply": "2021-06-11T04:07:04.333363Z",
     "shell.execute_reply.started": "2021-06-11T03:46:19.112277Z"
    },
    "papermill": {
     "duration": 0.050611,
     "end_time": "2021-06-11T04:07:04.333544",
     "exception": false,
     "start_time": "2021-06-11T04:07:04.282933",
     "status": "completed"
    },
    "tags": []
   },
   "outputs": [],
   "source": [
    "trainData = pd.read_csv(\"/kaggle/input/titanic/train.csv\")\n",
    "testData = pd.read_csv(\"/kaggle/input/titanic/test.csv\")"
   ]
  },
  {
   "cell_type": "markdown",
   "id": "chemical-singer",
   "metadata": {
    "papermill": {
     "duration": 0.020036,
     "end_time": "2021-06-11T04:07:04.372786",
     "exception": false,
     "start_time": "2021-06-11T04:07:04.352750",
     "status": "completed"
    },
    "tags": []
   },
   "source": [
    "2) printing the first seven rows from the DataFrame"
   ]
  },
  {
   "cell_type": "code",
   "execution_count": 4,
   "id": "supreme-teddy",
   "metadata": {
    "execution": {
     "iopub.execute_input": "2021-06-11T04:07:04.414419Z",
     "iopub.status.busy": "2021-06-11T04:07:04.413808Z",
     "iopub.status.idle": "2021-06-11T04:07:04.448628Z",
     "shell.execute_reply": "2021-06-11T04:07:04.449162Z",
     "shell.execute_reply.started": "2021-06-11T03:46:23.570620Z"
    },
    "papermill": {
     "duration": 0.057374,
     "end_time": "2021-06-11T04:07:04.449333",
     "exception": false,
     "start_time": "2021-06-11T04:07:04.391959",
     "status": "completed"
    },
    "tags": []
   },
   "outputs": [
    {
     "data": {
      "text/html": [
       "<div>\n",
       "<style scoped>\n",
       "    .dataframe tbody tr th:only-of-type {\n",
       "        vertical-align: middle;\n",
       "    }\n",
       "\n",
       "    .dataframe tbody tr th {\n",
       "        vertical-align: top;\n",
       "    }\n",
       "\n",
       "    .dataframe thead th {\n",
       "        text-align: right;\n",
       "    }\n",
       "</style>\n",
       "<table border=\"1\" class=\"dataframe\">\n",
       "  <thead>\n",
       "    <tr style=\"text-align: right;\">\n",
       "      <th></th>\n",
       "      <th>PassengerId</th>\n",
       "      <th>Survived</th>\n",
       "      <th>Pclass</th>\n",
       "      <th>Name</th>\n",
       "      <th>Sex</th>\n",
       "      <th>Age</th>\n",
       "      <th>SibSp</th>\n",
       "      <th>Parch</th>\n",
       "      <th>Ticket</th>\n",
       "      <th>Fare</th>\n",
       "      <th>Cabin</th>\n",
       "      <th>Embarked</th>\n",
       "    </tr>\n",
       "  </thead>\n",
       "  <tbody>\n",
       "    <tr>\n",
       "      <th>0</th>\n",
       "      <td>1</td>\n",
       "      <td>0</td>\n",
       "      <td>3</td>\n",
       "      <td>Braund, Mr. Owen Harris</td>\n",
       "      <td>male</td>\n",
       "      <td>22.0</td>\n",
       "      <td>1</td>\n",
       "      <td>0</td>\n",
       "      <td>A/5 21171</td>\n",
       "      <td>7.2500</td>\n",
       "      <td>NaN</td>\n",
       "      <td>S</td>\n",
       "    </tr>\n",
       "    <tr>\n",
       "      <th>1</th>\n",
       "      <td>2</td>\n",
       "      <td>1</td>\n",
       "      <td>1</td>\n",
       "      <td>Cumings, Mrs. John Bradley (Florence Briggs Th...</td>\n",
       "      <td>female</td>\n",
       "      <td>38.0</td>\n",
       "      <td>1</td>\n",
       "      <td>0</td>\n",
       "      <td>PC 17599</td>\n",
       "      <td>71.2833</td>\n",
       "      <td>C85</td>\n",
       "      <td>C</td>\n",
       "    </tr>\n",
       "    <tr>\n",
       "      <th>2</th>\n",
       "      <td>3</td>\n",
       "      <td>1</td>\n",
       "      <td>3</td>\n",
       "      <td>Heikkinen, Miss. Laina</td>\n",
       "      <td>female</td>\n",
       "      <td>26.0</td>\n",
       "      <td>0</td>\n",
       "      <td>0</td>\n",
       "      <td>STON/O2. 3101282</td>\n",
       "      <td>7.9250</td>\n",
       "      <td>NaN</td>\n",
       "      <td>S</td>\n",
       "    </tr>\n",
       "    <tr>\n",
       "      <th>3</th>\n",
       "      <td>4</td>\n",
       "      <td>1</td>\n",
       "      <td>1</td>\n",
       "      <td>Futrelle, Mrs. Jacques Heath (Lily May Peel)</td>\n",
       "      <td>female</td>\n",
       "      <td>35.0</td>\n",
       "      <td>1</td>\n",
       "      <td>0</td>\n",
       "      <td>113803</td>\n",
       "      <td>53.1000</td>\n",
       "      <td>C123</td>\n",
       "      <td>S</td>\n",
       "    </tr>\n",
       "    <tr>\n",
       "      <th>4</th>\n",
       "      <td>5</td>\n",
       "      <td>0</td>\n",
       "      <td>3</td>\n",
       "      <td>Allen, Mr. William Henry</td>\n",
       "      <td>male</td>\n",
       "      <td>35.0</td>\n",
       "      <td>0</td>\n",
       "      <td>0</td>\n",
       "      <td>373450</td>\n",
       "      <td>8.0500</td>\n",
       "      <td>NaN</td>\n",
       "      <td>S</td>\n",
       "    </tr>\n",
       "    <tr>\n",
       "      <th>5</th>\n",
       "      <td>6</td>\n",
       "      <td>0</td>\n",
       "      <td>3</td>\n",
       "      <td>Moran, Mr. James</td>\n",
       "      <td>male</td>\n",
       "      <td>NaN</td>\n",
       "      <td>0</td>\n",
       "      <td>0</td>\n",
       "      <td>330877</td>\n",
       "      <td>8.4583</td>\n",
       "      <td>NaN</td>\n",
       "      <td>Q</td>\n",
       "    </tr>\n",
       "    <tr>\n",
       "      <th>6</th>\n",
       "      <td>7</td>\n",
       "      <td>0</td>\n",
       "      <td>1</td>\n",
       "      <td>McCarthy, Mr. Timothy J</td>\n",
       "      <td>male</td>\n",
       "      <td>54.0</td>\n",
       "      <td>0</td>\n",
       "      <td>0</td>\n",
       "      <td>17463</td>\n",
       "      <td>51.8625</td>\n",
       "      <td>E46</td>\n",
       "      <td>S</td>\n",
       "    </tr>\n",
       "  </tbody>\n",
       "</table>\n",
       "</div>"
      ],
      "text/plain": [
       "   PassengerId  Survived  Pclass  \\\n",
       "0            1         0       3   \n",
       "1            2         1       1   \n",
       "2            3         1       3   \n",
       "3            4         1       1   \n",
       "4            5         0       3   \n",
       "5            6         0       3   \n",
       "6            7         0       1   \n",
       "\n",
       "                                                Name     Sex   Age  SibSp  \\\n",
       "0                            Braund, Mr. Owen Harris    male  22.0      1   \n",
       "1  Cumings, Mrs. John Bradley (Florence Briggs Th...  female  38.0      1   \n",
       "2                             Heikkinen, Miss. Laina  female  26.0      0   \n",
       "3       Futrelle, Mrs. Jacques Heath (Lily May Peel)  female  35.0      1   \n",
       "4                           Allen, Mr. William Henry    male  35.0      0   \n",
       "5                                   Moran, Mr. James    male   NaN      0   \n",
       "6                            McCarthy, Mr. Timothy J    male  54.0      0   \n",
       "\n",
       "   Parch            Ticket     Fare Cabin Embarked  \n",
       "0      0         A/5 21171   7.2500   NaN        S  \n",
       "1      0          PC 17599  71.2833   C85        C  \n",
       "2      0  STON/O2. 3101282   7.9250   NaN        S  \n",
       "3      0            113803  53.1000  C123        S  \n",
       "4      0            373450   8.0500   NaN        S  \n",
       "5      0            330877   8.4583   NaN        Q  \n",
       "6      0             17463  51.8625   E46        S  "
      ]
     },
     "execution_count": 4,
     "metadata": {},
     "output_type": "execute_result"
    }
   ],
   "source": [
    "trainData.head(n=7)"
   ]
  },
  {
   "cell_type": "markdown",
   "id": "elegant-horror",
   "metadata": {
    "papermill": {
     "duration": 0.019516,
     "end_time": "2021-06-11T04:07:04.488249",
     "exception": false,
     "start_time": "2021-06-11T04:07:04.468733",
     "status": "completed"
    },
    "tags": []
   },
   "source": [
    "3) some information about the dataset, the mean of the values for each column,count,max value, min value..."
   ]
  },
  {
   "cell_type": "code",
   "execution_count": 5,
   "id": "received-feelings",
   "metadata": {
    "execution": {
     "iopub.execute_input": "2021-06-11T04:07:04.531018Z",
     "iopub.status.busy": "2021-06-11T04:07:04.530398Z",
     "iopub.status.idle": "2021-06-11T04:07:04.568262Z",
     "shell.execute_reply": "2021-06-11T04:07:04.568787Z",
     "shell.execute_reply.started": "2021-06-11T03:50:59.364351Z"
    },
    "papermill": {
     "duration": 0.061017,
     "end_time": "2021-06-11T04:07:04.568962",
     "exception": false,
     "start_time": "2021-06-11T04:07:04.507945",
     "status": "completed"
    },
    "tags": []
   },
   "outputs": [
    {
     "data": {
      "text/html": [
       "<div>\n",
       "<style scoped>\n",
       "    .dataframe tbody tr th:only-of-type {\n",
       "        vertical-align: middle;\n",
       "    }\n",
       "\n",
       "    .dataframe tbody tr th {\n",
       "        vertical-align: top;\n",
       "    }\n",
       "\n",
       "    .dataframe thead th {\n",
       "        text-align: right;\n",
       "    }\n",
       "</style>\n",
       "<table border=\"1\" class=\"dataframe\">\n",
       "  <thead>\n",
       "    <tr style=\"text-align: right;\">\n",
       "      <th></th>\n",
       "      <th>PassengerId</th>\n",
       "      <th>Survived</th>\n",
       "      <th>Pclass</th>\n",
       "      <th>Age</th>\n",
       "      <th>SibSp</th>\n",
       "      <th>Parch</th>\n",
       "      <th>Fare</th>\n",
       "    </tr>\n",
       "  </thead>\n",
       "  <tbody>\n",
       "    <tr>\n",
       "      <th>count</th>\n",
       "      <td>891.000000</td>\n",
       "      <td>891.000000</td>\n",
       "      <td>891.000000</td>\n",
       "      <td>714.000000</td>\n",
       "      <td>891.000000</td>\n",
       "      <td>891.000000</td>\n",
       "      <td>891.000000</td>\n",
       "    </tr>\n",
       "    <tr>\n",
       "      <th>mean</th>\n",
       "      <td>446.000000</td>\n",
       "      <td>0.383838</td>\n",
       "      <td>2.308642</td>\n",
       "      <td>29.699118</td>\n",
       "      <td>0.523008</td>\n",
       "      <td>0.381594</td>\n",
       "      <td>32.204208</td>\n",
       "    </tr>\n",
       "    <tr>\n",
       "      <th>std</th>\n",
       "      <td>257.353842</td>\n",
       "      <td>0.486592</td>\n",
       "      <td>0.836071</td>\n",
       "      <td>14.526497</td>\n",
       "      <td>1.102743</td>\n",
       "      <td>0.806057</td>\n",
       "      <td>49.693429</td>\n",
       "    </tr>\n",
       "    <tr>\n",
       "      <th>min</th>\n",
       "      <td>1.000000</td>\n",
       "      <td>0.000000</td>\n",
       "      <td>1.000000</td>\n",
       "      <td>0.420000</td>\n",
       "      <td>0.000000</td>\n",
       "      <td>0.000000</td>\n",
       "      <td>0.000000</td>\n",
       "    </tr>\n",
       "    <tr>\n",
       "      <th>25%</th>\n",
       "      <td>223.500000</td>\n",
       "      <td>0.000000</td>\n",
       "      <td>2.000000</td>\n",
       "      <td>20.125000</td>\n",
       "      <td>0.000000</td>\n",
       "      <td>0.000000</td>\n",
       "      <td>7.910400</td>\n",
       "    </tr>\n",
       "    <tr>\n",
       "      <th>50%</th>\n",
       "      <td>446.000000</td>\n",
       "      <td>0.000000</td>\n",
       "      <td>3.000000</td>\n",
       "      <td>28.000000</td>\n",
       "      <td>0.000000</td>\n",
       "      <td>0.000000</td>\n",
       "      <td>14.454200</td>\n",
       "    </tr>\n",
       "    <tr>\n",
       "      <th>75%</th>\n",
       "      <td>668.500000</td>\n",
       "      <td>1.000000</td>\n",
       "      <td>3.000000</td>\n",
       "      <td>38.000000</td>\n",
       "      <td>1.000000</td>\n",
       "      <td>0.000000</td>\n",
       "      <td>31.000000</td>\n",
       "    </tr>\n",
       "    <tr>\n",
       "      <th>max</th>\n",
       "      <td>891.000000</td>\n",
       "      <td>1.000000</td>\n",
       "      <td>3.000000</td>\n",
       "      <td>80.000000</td>\n",
       "      <td>8.000000</td>\n",
       "      <td>6.000000</td>\n",
       "      <td>512.329200</td>\n",
       "    </tr>\n",
       "  </tbody>\n",
       "</table>\n",
       "</div>"
      ],
      "text/plain": [
       "       PassengerId    Survived      Pclass         Age       SibSp  \\\n",
       "count   891.000000  891.000000  891.000000  714.000000  891.000000   \n",
       "mean    446.000000    0.383838    2.308642   29.699118    0.523008   \n",
       "std     257.353842    0.486592    0.836071   14.526497    1.102743   \n",
       "min       1.000000    0.000000    1.000000    0.420000    0.000000   \n",
       "25%     223.500000    0.000000    2.000000   20.125000    0.000000   \n",
       "50%     446.000000    0.000000    3.000000   28.000000    0.000000   \n",
       "75%     668.500000    1.000000    3.000000   38.000000    1.000000   \n",
       "max     891.000000    1.000000    3.000000   80.000000    8.000000   \n",
       "\n",
       "            Parch        Fare  \n",
       "count  891.000000  891.000000  \n",
       "mean     0.381594   32.204208  \n",
       "std      0.806057   49.693429  \n",
       "min      0.000000    0.000000  \n",
       "25%      0.000000    7.910400  \n",
       "50%      0.000000   14.454200  \n",
       "75%      0.000000   31.000000  \n",
       "max      6.000000  512.329200  "
      ]
     },
     "execution_count": 5,
     "metadata": {},
     "output_type": "execute_result"
    }
   ],
   "source": [
    "trainData.describe()"
   ]
  },
  {
   "cell_type": "markdown",
   "id": "double-sitting",
   "metadata": {
    "papermill": {
     "duration": 0.019995,
     "end_time": "2021-06-11T04:07:04.609479",
     "exception": false,
     "start_time": "2021-06-11T04:07:04.589484",
     "status": "completed"
    },
    "tags": []
   },
   "source": [
    "4) showing the datatype of each column, and the columns that contains null values "
   ]
  },
  {
   "cell_type": "code",
   "execution_count": 6,
   "id": "parallel-binding",
   "metadata": {
    "execution": {
     "iopub.execute_input": "2021-06-11T04:07:04.653385Z",
     "iopub.status.busy": "2021-06-11T04:07:04.652756Z",
     "iopub.status.idle": "2021-06-11T04:07:04.671500Z",
     "shell.execute_reply": "2021-06-11T04:07:04.672005Z",
     "shell.execute_reply.started": "2021-06-11T03:46:34.707635Z"
    },
    "papermill": {
     "duration": 0.042576,
     "end_time": "2021-06-11T04:07:04.672222",
     "exception": false,
     "start_time": "2021-06-11T04:07:04.629646",
     "status": "completed"
    },
    "tags": []
   },
   "outputs": [
    {
     "name": "stdout",
     "output_type": "stream",
     "text": [
      "<class 'pandas.core.frame.DataFrame'>\n",
      "RangeIndex: 891 entries, 0 to 890\n",
      "Data columns (total 12 columns):\n",
      " #   Column       Non-Null Count  Dtype  \n",
      "---  ------       --------------  -----  \n",
      " 0   PassengerId  891 non-null    int64  \n",
      " 1   Survived     891 non-null    int64  \n",
      " 2   Pclass       891 non-null    int64  \n",
      " 3   Name         891 non-null    object \n",
      " 4   Sex          891 non-null    object \n",
      " 5   Age          714 non-null    float64\n",
      " 6   SibSp        891 non-null    int64  \n",
      " 7   Parch        891 non-null    int64  \n",
      " 8   Ticket       891 non-null    object \n",
      " 9   Fare         891 non-null    float64\n",
      " 10  Cabin        204 non-null    object \n",
      " 11  Embarked     889 non-null    object \n",
      "dtypes: float64(2), int64(5), object(5)\n",
      "memory usage: 83.7+ KB\n"
     ]
    }
   ],
   "source": [
    "trainData.info()"
   ]
  },
  {
   "cell_type": "markdown",
   "id": "fleet-absorption",
   "metadata": {
    "papermill": {
     "duration": 0.020588,
     "end_time": "2021-06-11T04:07:04.713468",
     "exception": false,
     "start_time": "2021-06-11T04:07:04.692880",
     "status": "completed"
    },
    "tags": []
   },
   "source": [
    "5) calculating the percentage of the survived passengers with Fare more than 50 and less than 50   "
   ]
  },
  {
   "cell_type": "code",
   "execution_count": 7,
   "id": "productive-broadcast",
   "metadata": {
    "execution": {
     "iopub.execute_input": "2021-06-11T04:07:04.758109Z",
     "iopub.status.busy": "2021-06-11T04:07:04.757479Z",
     "iopub.status.idle": "2021-06-11T04:07:04.787926Z",
     "shell.execute_reply": "2021-06-11T04:07:04.787403Z",
     "shell.execute_reply.started": "2021-06-11T03:46:43.492642Z"
    },
    "papermill": {
     "duration": 0.054133,
     "end_time": "2021-06-11T04:07:04.788092",
     "exception": false,
     "start_time": "2021-06-11T04:07:04.733959",
     "status": "completed"
    },
    "tags": []
   },
   "outputs": [
    {
     "name": "stdout",
     "output_type": "stream",
     "text": [
      "% of survived passengers with fare > 50 =  68.125 %\n",
      "% of survived passengers with fare < 50 =  31.917808219178085 %\n"
     ]
    }
   ],
   "source": [
    "F1 = trainData.loc[trainData.Fare > 50]['Survived']\n",
    "F1rate = sum(F1)/len(F1)\n",
    "print(\"% of survived passengers with fare > 50 = \",F1rate*100,\"%\")\n",
    "\n",
    "F2 = trainData.loc[trainData.Fare < 50]['Survived']\n",
    "F2rate = sum(F2)/len(F2)\n",
    "print(\"% of survived passengers with fare < 50 = \",F2rate*100,\"%\")\n"
   ]
  },
  {
   "cell_type": "markdown",
   "id": "distinguished-request",
   "metadata": {
    "papermill": {
     "duration": 0.020677,
     "end_time": "2021-06-11T04:07:04.829681",
     "exception": false,
     "start_time": "2021-06-11T04:07:04.809004",
     "status": "completed"
    },
    "tags": []
   },
   "source": [
    "6) calculating the percentage of the first,second and third class survived passengers "
   ]
  },
  {
   "cell_type": "code",
   "execution_count": 8,
   "id": "behavioral-buddy",
   "metadata": {
    "execution": {
     "iopub.execute_input": "2021-06-11T04:07:04.883888Z",
     "iopub.status.busy": "2021-06-11T04:07:04.883231Z",
     "iopub.status.idle": "2021-06-11T04:07:04.886933Z",
     "shell.execute_reply": "2021-06-11T04:07:04.887649Z",
     "shell.execute_reply.started": "2021-06-11T03:46:48.365907Z"
    },
    "papermill": {
     "duration": 0.037418,
     "end_time": "2021-06-11T04:07:04.887875",
     "exception": false,
     "start_time": "2021-06-11T04:07:04.850457",
     "status": "completed"
    },
    "tags": []
   },
   "outputs": [
    {
     "name": "stdout",
     "output_type": "stream",
     "text": [
      "% of first class survived passengers =  62.96296296296296 %\n",
      "% of second class survived passengers =  47.28260869565217 %\n",
      "% of third class survived passengers =  24.236252545824847 %\n"
     ]
    }
   ],
   "source": [
    "Aclass = trainData.loc[trainData.Pclass == 1]['Survived']\n",
    "Arate = sum(Aclass)/len(Aclass)\n",
    "print(\"% of first class survived passengers = \",Arate*100,\"%\")\n",
    "\n",
    "Bclass = trainData.loc[trainData.Pclass == 2]['Survived']\n",
    "Brate = sum(Bclass)/len(Bclass)\n",
    "print(\"% of second class survived passengers = \",Brate*100,\"%\")\n",
    "\n",
    "Cclass = trainData.loc[trainData.Pclass == 3]['Survived']\n",
    "Crate = sum(Cclass)/len(Cclass)\n",
    "print(\"% of third class survived passengers = \",Crate*100,\"%\")"
   ]
  },
  {
   "cell_type": "markdown",
   "id": "chronic-biology",
   "metadata": {
    "papermill": {
     "duration": 0.020903,
     "end_time": "2021-06-11T04:07:04.930804",
     "exception": false,
     "start_time": "2021-06-11T04:07:04.909901",
     "status": "completed"
    },
    "tags": []
   },
   "source": [
    "7) calculating the percentage of survived passengers with n siblings "
   ]
  },
  {
   "cell_type": "code",
   "execution_count": 9,
   "id": "black-publicity",
   "metadata": {
    "execution": {
     "iopub.execute_input": "2021-06-11T04:07:04.976498Z",
     "iopub.status.busy": "2021-06-11T04:07:04.975875Z",
     "iopub.status.idle": "2021-06-11T04:07:04.991774Z",
     "shell.execute_reply": "2021-06-11T04:07:04.992299Z",
     "shell.execute_reply.started": "2021-06-11T03:47:31.165483Z"
    },
    "papermill": {
     "duration": 0.040521,
     "end_time": "2021-06-11T04:07:04.992485",
     "exception": false,
     "start_time": "2021-06-11T04:07:04.951964",
     "status": "completed"
    },
    "tags": []
   },
   "outputs": [
    {
     "name": "stdout",
     "output_type": "stream",
     "text": [
      "% of survived passengers with  0  siblings =  34.53947368421053 %\n",
      "% of survived passengers with  1  siblings =  53.588516746411486 %\n",
      "% of survived passengers with  2  siblings =  46.42857142857143 %\n",
      "% of survived passengers with  3  siblings =  25.0 %\n",
      "% of survived passengers with  4  siblings =  16.666666666666664 %\n",
      "% of survived passengers with  5  siblings =  0.0 %\n"
     ]
    }
   ],
   "source": [
    "for s in range(0,6):\n",
    "    ss = trainData.loc[trainData.SibSp == s]['Survived']\n",
    "    rate = sum(ss)/len(ss)\n",
    "    print(\"% of survived passengers with \",s,\" siblings = \",rate*100,\"%\")"
   ]
  },
  {
   "cell_type": "code",
   "execution_count": 10,
   "id": "intended-psychology",
   "metadata": {
    "execution": {
     "iopub.execute_input": "2021-06-11T04:07:05.042596Z",
     "iopub.status.busy": "2021-06-11T04:07:05.041964Z",
     "iopub.status.idle": "2021-06-11T04:07:05.467027Z",
     "shell.execute_reply": "2021-06-11T04:07:05.467572Z",
     "shell.execute_reply.started": "2021-06-11T03:47:40.238059Z"
    },
    "papermill": {
     "duration": 0.451566,
     "end_time": "2021-06-11T04:07:05.467822",
     "exception": false,
     "start_time": "2021-06-11T04:07:05.016256",
     "status": "completed"
    },
    "tags": []
   },
   "outputs": [
    {
     "data": {
      "image/png": "[encoded data removed]",
      "text/plain": [
       "<Figure size 432x288 with 1 Axes>"
      ]
     },
     "metadata": {
      "needs_background": "light"
     },
     "output_type": "display_data"
    }
   ],
   "source": [
    "seaborn.barplot(x = 'Sex', y = 'Survived', hue = 'Pclass', data = trainData,palette = 'magma',\n",
    "order = ['female', 'male'],capsize = 0.04,errcolor = 'pink', errwidth = 2)\n",
    "plt.show()"
   ]
  },
  {
   "cell_type": "code",
   "execution_count": 11,
   "id": "nominated-filter",
   "metadata": {
    "execution": {
     "iopub.execute_input": "2021-06-11T04:07:05.520356Z",
     "iopub.status.busy": "2021-06-11T04:07:05.519665Z",
     "iopub.status.idle": "2021-06-11T04:07:05.759767Z",
     "shell.execute_reply": "2021-06-11T04:07:05.759217Z",
     "shell.execute_reply.started": "2021-06-11T03:47:46.231166Z"
    },
    "papermill": {
     "duration": 0.268853,
     "end_time": "2021-06-11T04:07:05.759933",
     "exception": false,
     "start_time": "2021-06-11T04:07:05.491080",
     "status": "completed"
    },
    "tags": []
   },
   "outputs": [
    {
     "data": {
      "text/plain": [
       "<seaborn.axisgrid.FacetGrid at 0x7fa49cc4d8d0>"
      ]
     },
     "execution_count": 11,
     "metadata": {},
     "output_type": "execute_result"
    },
    {
     "data": {
      "image/png": "[encoded data removed]",
      "text/plain": [
       "<Figure size 360x360 with 1 Axes>"
      ]
     },
     "metadata": {
      "needs_background": "light"
     },
     "output_type": "display_data"
    }
   ],
   "source": [
    "seaborn.catplot(x=\"Survived\", y=\"Age\", data=trainData)"
   ]
  },
  {
   "cell_type": "code",
   "execution_count": 12,
   "id": "fundamental-advice",
   "metadata": {
    "execution": {
     "iopub.execute_input": "2021-06-11T04:07:05.821820Z",
     "iopub.status.busy": "2021-06-11T04:07:05.817501Z",
     "iopub.status.idle": "2021-06-11T04:07:06.448156Z",
     "shell.execute_reply": "2021-06-11T04:07:06.447622Z",
     "shell.execute_reply.started": "2021-06-11T03:47:51.573479Z"
    },
    "papermill": {
     "duration": 0.663476,
     "end_time": "2021-06-11T04:07:06.448309",
     "exception": false,
     "start_time": "2021-06-11T04:07:05.784833",
     "status": "completed"
    },
    "tags": []
   },
   "outputs": [
    {
     "data": {
      "text/plain": [
       "<seaborn.axisgrid.FacetGrid at 0x7fa49278fc90>"
      ]
     },
     "execution_count": 12,
     "metadata": {},
     "output_type": "execute_result"
    },
    {
     "data": {
      "image/png": "[encoded data removed]",
      "text/plain": [
       "<Figure size 411.875x360 with 1 Axes>"
      ]
     },
     "metadata": {
      "needs_background": "light"
     },
     "output_type": "display_data"
    }
   ],
   "source": [
    "seaborn.catplot(x=\"Pclass\", y=\"Age\", hue = \"Survived\", kind = \"violin\", data=trainData)"
   ]
  },
  {
   "cell_type": "markdown",
   "id": "resistant-forty",
   "metadata": {
    "papermill": {
     "duration": 0.025495,
     "end_time": "2021-06-11T04:07:06.499965",
     "exception": false,
     "start_time": "2021-06-11T04:07:06.474470",
     "status": "completed"
    },
    "tags": []
   },
   "source": [
    "Heatmap"
   ]
  },
  {
   "cell_type": "code",
   "execution_count": 13,
   "id": "thermal-chamber",
   "metadata": {
    "execution": {
     "iopub.execute_input": "2021-06-11T04:07:06.576302Z",
     "iopub.status.busy": "2021-06-11T04:07:06.557986Z",
     "iopub.status.idle": "2021-06-11T04:07:06.875333Z",
     "shell.execute_reply": "2021-06-11T04:07:06.874659Z",
     "shell.execute_reply.started": "2021-06-11T04:00:31.631974Z"
    },
    "papermill": {
     "duration": 0.349664,
     "end_time": "2021-06-11T04:07:06.875475",
     "exception": false,
     "start_time": "2021-06-11T04:07:06.525811",
     "status": "completed"
    },
    "tags": []
   },
   "outputs": [
    {
     "data": {
      "text/plain": [
       "<AxesSubplot:>"
      ]
     },
     "execution_count": 13,
     "metadata": {},
     "output_type": "execute_result"
    },
    {
     "data": {
      "image/png": "[encoded data removed]",
      "text/plain": [
       "<Figure size 576x504 with 2 Axes>"
      ]
     },
     "metadata": {
      "needs_background": "light"
     },
     "output_type": "display_data"
    }
   ],
   "source": [
    "c = trainData.corr()\n",
    "a, b = plt.subplots(figsize=(8, 7))\n",
    "seaborn.heatmap(c, vmax = 0.7)"
   ]
  },
  {
   "cell_type": "markdown",
   "id": "inside-minneapolis",
   "metadata": {
    "papermill": {
     "duration": 0.027127,
     "end_time": "2021-06-11T04:07:06.929889",
     "exception": false,
     "start_time": "2021-06-11T04:07:06.902762",
     "status": "completed"
    },
    "tags": []
   },
   "source": [
    "8) filling NaN values in 'Fare' and 'Age' columns"
   ]
  },
  {
   "cell_type": "code",
   "execution_count": 14,
   "id": "classical-sound",
   "metadata": {
    "execution": {
     "iopub.execute_input": "2021-06-11T04:07:06.995531Z",
     "iopub.status.busy": "2021-06-11T04:07:06.993826Z",
     "iopub.status.idle": "2021-06-11T04:07:06.999500Z",
     "shell.execute_reply": "2021-06-11T04:07:06.998915Z",
     "shell.execute_reply.started": "2021-06-11T03:47:59.582203Z"
    },
    "papermill": {
     "duration": 0.042134,
     "end_time": "2021-06-11T04:07:06.999648",
     "exception": false,
     "start_time": "2021-06-11T04:07:06.957514",
     "status": "completed"
    },
    "tags": []
   },
   "outputs": [],
   "source": [
    "trainData['Fare'].fillna(trainData['Fare'].mean(), inplace=True)\n",
    "testData['Fare'].fillna(testData['Fare'].mean(), inplace=True)\n",
    "\n",
    "trainData['Age'].fillna(trainData['Age'].median(), inplace=True)\n",
    "testData['Age'].fillna(testData['Age'].median(), inplace=True)"
   ]
  },
  {
   "cell_type": "markdown",
   "id": "tough-bacon",
   "metadata": {
    "papermill": {
     "duration": 0.026633,
     "end_time": "2021-06-11T04:07:07.054196",
     "exception": false,
     "start_time": "2021-06-11T04:07:07.027563",
     "status": "completed"
    },
    "tags": []
   },
   "source": [
    "9) converting the categorical variables to dummy variables\n"
   ]
  },
  {
   "cell_type": "code",
   "execution_count": 15,
   "id": "convinced-raise",
   "metadata": {
    "execution": {
     "iopub.execute_input": "2021-06-11T04:07:07.119191Z",
     "iopub.status.busy": "2021-06-11T04:07:07.116814Z",
     "iopub.status.idle": "2021-06-11T04:07:07.132083Z",
     "shell.execute_reply": "2021-06-11T04:07:07.131345Z",
     "shell.execute_reply.started": "2021-06-11T04:06:14.256117Z"
    },
    "papermill": {
     "duration": 0.049549,
     "end_time": "2021-06-11T04:07:07.132249",
     "exception": false,
     "start_time": "2021-06-11T04:07:07.082700",
     "status": "completed"
    },
    "tags": []
   },
   "outputs": [],
   "source": [
    "j = trainData[\"Survived\"]\n",
    "f = [\"Pclass\",\"Age\",\"SibSp\",\"Parch\",\"Fare\"]\n",
    "i = pd.get_dummies(trainData[f])\n",
    "test = pd.get_dummies(testData[f])"
   ]
  },
  {
   "cell_type": "markdown",
   "id": "external-emphasis",
   "metadata": {
    "papermill": {
     "duration": 0.026855,
     "end_time": "2021-06-11T04:07:07.186573",
     "exception": false,
     "start_time": "2021-06-11T04:07:07.159718",
     "status": "completed"
    },
    "tags": []
   },
   "source": [
    "10) using k-Fold Cross-Validation to evaluate the model,\n",
    "\n",
    "    How it works:\n",
    "    \n",
    "     - spliting the dataset into k groups\n",
    "     \n",
    "     - for each one of the groups:\n",
    "     \n",
    "         - Taking the group as a test dataset\n",
    "         \n",
    "         - the remaining groups will be the training datasets \n",
    "         \n",
    "         - fitting the model on the training set, and evaluating it on the test set\n",
    "         \n",
    "         - Retain the score \n",
    "         \n",
    "     - calculating the accuracy using the sample scores"
   ]
  },
  {
   "cell_type": "code",
   "execution_count": 16,
   "id": "casual-porter",
   "metadata": {
    "execution": {
     "iopub.execute_input": "2021-06-11T04:07:07.252323Z",
     "iopub.status.busy": "2021-06-11T04:07:07.251266Z",
     "iopub.status.idle": "2021-06-11T04:07:18.113741Z",
     "shell.execute_reply": "2021-06-11T04:07:18.113182Z",
     "shell.execute_reply.started": "2021-06-11T04:06:23.776684Z"
    },
    "papermill": {
     "duration": 10.900031,
     "end_time": "2021-06-11T04:07:18.113905",
     "exception": false,
     "start_time": "2021-06-11T04:07:07.213874",
     "status": "completed"
    },
    "tags": []
   },
   "outputs": [
    {
     "name": "stdout",
     "output_type": "stream",
     "text": [
      "accuracy = 0.728 (0.041)\n",
      "successful submission\n"
     ]
    }
   ],
   "source": [
    "m = RandomForestClassifier(n_estimators = 100, max_depth = 5, random_state = 1)\n",
    "m.fit(i,j)\n",
    "prediction = m.predict(test)\n",
    "output = pd.DataFrame({'PassengerId':testData.PassengerId,'Survived':prediction})\n",
    "output.to_csv('my_submission.csv', index = False)\n",
    "\n",
    "CrossValidation = RepeatedKFold(n_splits = 10, n_repeats = 5,random_state=1)\n",
    "Score = cross_val_score(m,i,j,cv = CrossValidation )\n",
    "print('accuracy = %.3f (%.3f)' % (mean(Score), std(Score)))\n",
    "print(\"successful submission\")"
   ]
  }
 ],
 "metadata": {
  "kernelspec": {
   "display_name": "Python 3",
   "language": "python",
   "name": "python3"
  },
  "language_info": {
   "codemirror_mode": {
    "name": "ipython",
    "version": 3
   },
   "file_extension": ".py",
   "mimetype": "text/x-python",
   "name": "python",
   "nbconvert_exporter": "python",
   "pygments_lexer": "ipython3",
   "version": "3.7.10"
  },
  "papermill": {
   "default_parameters": {},
   "duration": 24.906492,
   "end_time": "2021-06-11T04:07:18.961486",
   "environment_variables": {},
   "exception": null,
   "input_path": "__notebook__.ipynb",
   "output_path": "__notebook__.ipynb",
   "parameters": {},
   "start_time": "2021-06-11T04:06:54.054994",
   "version": "2.3.3"
  }
 },
 "nbformat": 4,
 "nbformat_minor": 5
}
